{
 "cells": [
  {
   "cell_type": "markdown",
   "metadata": {},
   "source": [
    "Imports"
   ]
  },
  {
   "cell_type": "code",
   "execution_count": 1,
   "metadata": {},
   "outputs": [],
   "source": [
    "import pandas as pd\n",
    "import matplotlib.pyplot as plt\n",
    "from sklearn.model_selection import train_test_split\n",
    "from sklearn.tree import DecisionTreeClassifier\n",
    "from sklearn.metrics import classification_report, confusion_matrix, accuracy_score\n",
    "from sklearn.neighbors import KNeighborsClassifier\n",
    "from sklearn.svm import SVC\n",
    "import tkinter as tk\n",
    "from tkinter import messagebox\n",
    "import numpy as np\n",
    "\n",
    "\n",
    "df = pd.read_csv(\"BitcoinHeistData.csv\")"
   ]
  },
  {
   "cell_type": "markdown",
   "metadata": {},
   "source": [
    "Pré-processamento e tratamento dos dados"
   ]
  },
  {
   "cell_type": "code",
   "execution_count": 2,
   "metadata": {},
   "outputs": [
    {
     "name": "stdout",
     "output_type": "stream",
     "text": [
      "O dataframe tem o seguinte tamanho (2916697, 10)\n",
      "                              address  year  day  length    weight  count  \\\n",
      "0   111K8kZAEnJg245r2cM6y9zgJGHZtJPy6  2017   11      18  0.008333      1   \n",
      "1  1123pJv8jzeFQaCV4w644pzQJzVWay2zcA  2016  132      44  0.000244      1   \n",
      "2  112536im7hy6wtKbpH1qYDWtTyMRAcA2p7  2016  246       0  1.000000      1   \n",
      "3  1126eDRw2wqSkWosjTCre8cjjQW8sSeWH7  2016  322      72  0.003906      1   \n",
      "4  1129TSjKtx65E35GiUo4AYVeyo48twbrGX  2016  238     144  0.072848    456   \n",
      "\n",
      "   looped  neighbors       income            label  \n",
      "0       0          2  100050000.0  princetonCerber  \n",
      "1       0          1  100000000.0   princetonLocky  \n",
      "2       0          2  200000000.0  princetonCerber  \n",
      "3       0          2   71200000.0  princetonCerber  \n",
      "4       0          1  200000000.0   princetonLocky  \n",
      "Numero de nulos em cada coluna:\n",
      "  address      0\n",
      "year         0\n",
      "day          0\n",
      "length       0\n",
      "weight       0\n",
      "count        0\n",
      "looped       0\n",
      "neighbors    0\n",
      "income       0\n",
      "label        0\n",
      "dtype: int64\n",
      "Numero de duplicados em cada coluna:\n",
      "  0\n"
     ]
    }
   ],
   "source": [
    "tamanho_df = df.shape\n",
    "print(f\"O dataframe tem o seguinte tamanho {tamanho_df}\")\n",
    "print(df.head(5))\n",
    "\n",
    "#Nulos\n",
    "null_values = df.isnull().sum()\n",
    "print(\"Numero de nulos em cada coluna:\\n \", null_values)\n",
    "\n",
    "#Duplicados\n",
    "duplicates = df.duplicated().sum()\n",
    "print(\"Numero de duplicados em cada coluna:\\n \", duplicates)\n"
   ]
  },
  {
   "cell_type": "code",
   "execution_count": 3,
   "metadata": {},
   "outputs": [
    {
     "name": "stdout",
     "output_type": "stream",
     "text": [
      "['princetonCerber' 'princetonLocky' 'montrealCryptoLocker'\n",
      " 'montrealCryptXXX' 'paduaCryptoWall' 'montrealWannaCry'\n",
      " 'montrealDMALockerv3' 'montrealCryptoTorLocker2015' 'montrealSamSam'\n",
      " 'montrealFlyper' 'montrealNoobCrypt' 'montrealDMALocker' 'montrealGlobe'\n",
      " 'montrealEDA2' 'paduaKeRanger' 'montrealVenusLocker' 'montrealXTPLocker'\n",
      " 'paduaJigsaw' 'montrealGlobev3' 'montrealJigSaw' 'montrealXLockerv5.0'\n",
      " 'montrealXLocker' 'montrealRazy' 'montrealCryptConsole'\n",
      " 'montrealGlobeImposter' 'montrealSam' 'montrealComradeCircle'\n",
      " 'montrealAPT' 'white']\n"
     ]
    },
    {
     "data": {
      "text/plain": [
       "\"for i in range(len(df)):\\n\\n    if df.loc[i, 'label'] != 'white':\\n        df.loc[i, 'label'] = 1\\n        print(df.loc[i, 'label'])\\n    else:\\n        df.loc[i, 'label'] = 0\""
      ]
     },
     "execution_count": 3,
     "metadata": {},
     "output_type": "execute_result"
    }
   ],
   "source": [
    "valores_unicos = df['label'].unique()\n",
    "print(valores_unicos)\n",
    "\n",
    "df.replace({'label':{'montrealWannaCry':0, 'montrealDMALockerv3':0,\n",
    " 'montrealCryptoTorLocker2015':0, 'montrealSamSam':0, 'montrealFlyper':0,\n",
    " 'montrealNoobCrypt':0, 'montrealDMALocker':0, 'montrealGlobe':0, 'montrealEDA2':0,\n",
    " 'paduaKeRanger':0, 'montrealVenusLocker':0, 'montrealXTPLocker':0, 'paduaJigsaw':0,\n",
    " 'montrealGlobev3':0, 'montrealJigSaw':0, 'montrealXLockerv5.0':0,\n",
    " 'montrealXLocker':0, 'montrealRazy':0, 'montrealCryptConsole':0,\n",
    " 'montrealGlobeImposter':0, 'montrealSam':0, 'montrealComradeCircle':0,\n",
    " 'montrealAPT':0, 'white':1, 'pr':0, 'princetonLockyincetonCerber':0, 'princetonCerber':0,\n",
    " 'princetonLocky':0, 'montrealCryptoLocker':0, 'montrealCryptXXX':0, 'paduaCryptoWall':0}},inplace=True)\n",
    "\n",
    "'''for i in range(len(df)):\n",
    "\n",
    "    if df.loc[i, 'label'] != 'white':\n",
    "        df.loc[i, 'label'] = 1\n",
    "        print(df.loc[i, 'label'])\n",
    "    else:\n",
    "        df.loc[i, 'label'] = 0'''\n"
   ]
  },
  {
   "cell_type": "markdown",
   "metadata": {},
   "source": [
    "Separação dos conjuntos de treino e teste"
   ]
  },
  {
   "cell_type": "code",
   "execution_count": 4,
   "metadata": {},
   "outputs": [],
   "source": [
    "df.drop('address', axis=1, inplace=True)\n",
    "\n",
    "X = df.drop('label', axis=1)\n",
    "y = df['label']\n",
    "\n",
    "X_train, X_test, y_train, y_test = train_test_split(X, y, test_size=0.30)"
   ]
  },
  {
   "cell_type": "markdown",
   "metadata": {},
   "source": [
    "Aplicação dos algoritmos"
   ]
  },
  {
   "cell_type": "code",
   "execution_count": 5,
   "metadata": {},
   "outputs": [],
   "source": [
    "knn = KNeighborsClassifier(n_neighbors=7)\n",
    "\n",
    "#Treino dos algoritmos\n",
    "knn.fit(X_train, y_train)\n",
    "\n",
    "#Testar algoritmos\n",
    "knn_y_pred = knn.predict(X_test)\n"
   ]
  },
  {
   "cell_type": "markdown",
   "metadata": {},
   "source": [
    "Avaliação dos algoritmos"
   ]
  },
  {
   "cell_type": "code",
   "execution_count": 6,
   "metadata": {},
   "outputs": [
    {
     "name": "stdout",
     "output_type": "stream",
     "text": [
      "[[  2588   9874]\n",
      " [  1470 861078]]\n",
      "              precision    recall  f1-score   support\n",
      "\n",
      "           0       0.64      0.21      0.31     12462\n",
      "           1       0.99      1.00      0.99    862548\n",
      "\n",
      "    accuracy                           0.99    875010\n",
      "   macro avg       0.81      0.60      0.65    875010\n",
      "weighted avg       0.98      0.99      0.98    875010\n",
      "\n"
     ]
    }
   ],
   "source": [
    "#KNN\n",
    "print(confusion_matrix(y_test, knn_y_pred))\n",
    "print(classification_report(y_test, knn_y_pred))\n"
   ]
  },
  {
   "cell_type": "markdown",
   "metadata": {},
   "source": [
    "Interface gráfica"
   ]
  },
  {
   "cell_type": "code",
   "execution_count": 9,
   "metadata": {},
   "outputs": [
    {
     "name": "stderr",
     "output_type": "stream",
     "text": [
      "c:\\Users\\freit\\anaconda3\\Lib\\site-packages\\sklearn\\base.py:464: UserWarning: X does not have valid feature names, but KNeighborsClassifier was fitted with feature names\n",
      "  warnings.warn(\n"
     ]
    },
    {
     "name": "stdout",
     "output_type": "stream",
     "text": [
      "[1]\n"
     ]
    }
   ],
   "source": [
    "def fazer_predicao(): \n",
    "\n",
    "    inputs = np.array([[float(Year.get()), float(Day.get()),\n",
    "                            float(Length.get()), float(Weight.get()), float(Count.get()),\n",
    "                            float(Looped.get()), float(Neighbors.get()), float(Income.get())]])\n",
    "      \n",
    "    y_pred_lin = knn.predict(inputs)\n",
    "    print(y_pred_lin)\n",
    "\n",
    "    #messagebox.showinfo(\"Previsão\", f\"Previsão  : ${y_pred_lin}\")\n",
    "\n",
    "    if(y_pred_lin == 1):\n",
    "        messagebox.showinfo(\"Previsão\", \"The transaction is pure!\")\n",
    "    else:\n",
    "        messagebox.showinfo(\"Previsão\", \"The transaction is not pure!\")\n",
    "    \n",
    "    \n",
    "\n",
    "########### Interface gráfica  ###########\n",
    "\n",
    "root = tk.Tk()\n",
    "root.title(\"Bitcoin Transfer Classification\")\n",
    "\n",
    "tk.Label(root, text=\"Year\").grid(row=1, column=0)\n",
    "Year = tk.Entry(root)\n",
    "Year.grid(row=1, column=1)\n",
    "\n",
    "tk.Label(root, text=\"Day\").grid(row=2, column=0)\n",
    "Day = tk.Entry(root)\n",
    "Day.grid(row=2, column=1)\n",
    "\n",
    "tk.Label(root, text=\"Length\").grid(row=3, column=0)\n",
    "Length = tk.Entry(root)\n",
    "Length.grid(row=3, column=1)\n",
    "\n",
    "tk.Label(root, text=\"Weight\").grid(row=4, column=0)\n",
    "Weight = tk.Entry(root)\n",
    "Weight.grid(row=4, column=1)\n",
    "\n",
    "tk.Label(root, text=\"Count\").grid(row=5, column=0)\n",
    "Count = tk.Entry(root)\n",
    "Count.grid(row=5, column=1)\n",
    "\n",
    "tk.Label(root, text=\"Looped\").grid(row=6, column=0)\n",
    "Looped = tk.Entry(root)\n",
    "Looped.grid(row=6, column=1)\n",
    "\n",
    "tk.Label(root, text=\"Neighbors\").grid(row=7, column=0)\n",
    "Neighbors = tk.Entry(root)\n",
    "Neighbors.grid(row=7, column=1)\n",
    "\n",
    "tk.Label(root, text=\"Income\").grid(row=8, column=0)\n",
    "Income = tk.Entry(root)\n",
    "Income.grid(row=8, column=1)\n",
    "\n",
    "# Botão para previsões\n",
    "predict_button = tk.Button(root, text=\"Predict\", command=fazer_predicao)\n",
    "predict_button.grid(row=9, columnspan=2)\n",
    "\n",
    "root.mainloop()"
   ]
  }
 ],
 "metadata": {
  "kernelspec": {
   "display_name": "base",
   "language": "python",
   "name": "python3"
  },
  "language_info": {
   "codemirror_mode": {
    "name": "ipython",
    "version": 3
   },
   "file_extension": ".py",
   "mimetype": "text/x-python",
   "name": "python",
   "nbconvert_exporter": "python",
   "pygments_lexer": "ipython3",
   "version": "3.11.5"
  }
 },
 "nbformat": 4,
 "nbformat_minor": 2
}
