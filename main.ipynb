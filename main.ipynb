{
 "cells": [
  {
   "cell_type": "markdown",
   "metadata": {},
   "source": [
    "Imports"
   ]
  },
  {
   "cell_type": "code",
   "execution_count": 1,
   "metadata": {},
   "outputs": [],
   "source": [
    "import pandas as pd\n",
    "import matplotlib.pyplot as plt\n",
    "from sklearn.model_selection import train_test_split\n",
    "from sklearn.tree import DecisionTreeClassifier\n",
    "from sklearn.metrics import classification_report, confusion_matrix, accuracy_score\n",
    "\n",
    "\n",
    "df = pd.read_csv(\"BitcoinHeistData.csv\")"
   ]
  },
  {
   "cell_type": "markdown",
   "metadata": {},
   "source": [
    "Pré-processamento e tratamento dos dados"
   ]
  },
  {
   "cell_type": "code",
   "execution_count": 2,
   "metadata": {},
   "outputs": [
    {
     "name": "stdout",
     "output_type": "stream",
     "text": [
      "O dataframe tem o seguinte tamanho (2916697, 10)\n",
      "                              address  year  day  length    weight  count  \\\n",
      "0   111K8kZAEnJg245r2cM6y9zgJGHZtJPy6  2017   11      18  0.008333      1   \n",
      "1  1123pJv8jzeFQaCV4w644pzQJzVWay2zcA  2016  132      44  0.000244      1   \n",
      "2  112536im7hy6wtKbpH1qYDWtTyMRAcA2p7  2016  246       0  1.000000      1   \n",
      "3  1126eDRw2wqSkWosjTCre8cjjQW8sSeWH7  2016  322      72  0.003906      1   \n",
      "4  1129TSjKtx65E35GiUo4AYVeyo48twbrGX  2016  238     144  0.072848    456   \n",
      "\n",
      "   looped  neighbors       income            label  \n",
      "0       0          2  100050000.0  princetonCerber  \n",
      "1       0          1  100000000.0   princetonLocky  \n",
      "2       0          2  200000000.0  princetonCerber  \n",
      "3       0          2   71200000.0  princetonCerber  \n",
      "4       0          1  200000000.0   princetonLocky  \n",
      "Numero de nulos em cada coluna:\n",
      "  address      0\n",
      "year         0\n",
      "day          0\n",
      "length       0\n",
      "weight       0\n",
      "count        0\n",
      "looped       0\n",
      "neighbors    0\n",
      "income       0\n",
      "label        0\n",
      "dtype: int64\n",
      "Numero de duplicados em cada coluna:\n",
      "  0\n"
     ]
    }
   ],
   "source": [
    "tamanho_df = df.shape\n",
    "print(f\"O dataframe tem o seguinte tamanho {tamanho_df}\")\n",
    "print(df.head(5))\n",
    "\n",
    "#Nulos\n",
    "null_values = df.isnull().sum()\n",
    "print(\"Numero de nulos em cada coluna:\\n \", null_values)\n",
    "\n",
    "#Duplicados\n",
    "duplicates = df.duplicated().sum()\n",
    "print(\"Numero de duplicados em cada coluna:\\n \", duplicates)\n"
   ]
  },
  {
   "cell_type": "code",
   "execution_count": 4,
   "metadata": {},
   "outputs": [
    {
     "name": "stdout",
     "output_type": "stream",
     "text": [
      "[26 27 28 29 30  0  1  2  3  4  5  6  7  8  9 10 11 12 13 14 15 16 17 18\n",
      " 19 20 21 22 23]\n"
     ]
    }
   ],
   "source": [
    "valores_unicos = df['label'].unique()\n",
    "print(valores_unicos)\n",
    "\n",
    "df.replace({'label':{'montrealWannaCry':0, 'montrealDMALockerv3':1,\n",
    " 'montrealCryptoTorLocker2015':2, 'montrealSamSam':3, 'montrealFlyper':4,\n",
    " 'montrealNoobCrypt':5, 'montrealDMALocker':6, 'montrealGlobe':7, 'montrealEDA2':8,\n",
    " 'paduaKeRanger':9, 'montrealVenusLocker':10, 'montrealXTPLocker':11, 'paduaJigsaw':12,\n",
    " 'montrealGlobev3':13, 'montrealJigSaw':14, 'montrealXLockerv5.0':15,\n",
    " 'montrealXLocker':16, 'montrealRazy':17, 'montrealCryptConsole':18,\n",
    " 'montrealGlobeImposter':19, 'montrealSam':20, 'montrealComradeCircle':21,\n",
    " 'montrealAPT':22, 'white':23, 'pr':24, 'princetonLockyincetonCerber':25, 'princetonCerber':26,\n",
    " 'princetonLocky':27, 'montrealCryptoLocker':28, 'montrealCryptXXX':29, 'paduaCryptoWall':30}},inplace=True)\n",
    "\n"
   ]
  },
  {
   "cell_type": "markdown",
   "metadata": {},
   "source": [
    "Separação dos conjuntos de treino e teste"
   ]
  },
  {
   "cell_type": "code",
   "execution_count": null,
   "metadata": {},
   "outputs": [],
   "source": [
    "X = df.drop('label', axis=1)\n",
    "Y = df['label']\n",
    "\n",
    "X_train, X_test, y_train, y_test = train_test_split(X, y, test_size=0.30)"
   ]
  }
 ],
 "metadata": {
  "kernelspec": {
   "display_name": "base",
   "language": "python",
   "name": "python3"
  },
  "language_info": {
   "codemirror_mode": {
    "name": "ipython",
    "version": 3
   },
   "file_extension": ".py",
   "mimetype": "text/x-python",
   "name": "python",
   "nbconvert_exporter": "python",
   "pygments_lexer": "ipython3",
   "version": "3.11.5"
  }
 },
 "nbformat": 4,
 "nbformat_minor": 2
}
